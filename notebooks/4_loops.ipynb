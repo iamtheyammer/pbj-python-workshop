{
 "cells": [
  {
   "cell_type": "markdown",
   "metadata": {},
   "source": [
    "# Loops\n",
    "\n",
    "There are two main types of loops in Python: [`for` loops](https://www.w3schools.com/python/python_for_loops.asp) and [`while` loops](https://www.w3schools.com/python/python_while_loops.asp).\n",
    "\n",
    "They both run a segment of code over and over, but have different conditions determining:\n",
    "\n",
    "- Whether to run the loop for the first time\n",
    "- Whether to, after running the code inside the loop, run the code inside the loop again\n",
    "\n",
    "## For loops\n",
    "\n",
    "For loops are normally used to _iterate_ over a sequence or list of things. In other words, one often uses for loops when there is a **known number of times to run the loop**.\n",
    "\n",
    "The code below generates a list of numbers 0-9, prints it, then uses a for loop to print one at a time.\n",
    "\n",
    "See the FAQ below for more about the `range()` function and the `*` before it on the first line."
   ]
  },
  {
   "cell_type": "code",
   "execution_count": null,
   "metadata": {},
   "outputs": [],
   "source": [
    "range010 = [*range(0, 10)]\n",
    "print(range010)\n",
    "\n",
    "for i in range(0, 10):\n",
    "    print(i)"
   ]
  },
  {
   "cell_type": "markdown",
   "metadata": {},
   "source": [
    "## While loops\n",
    "\n",
    "While loops run while a condition is true. It is like an if statement, however rather than the code block running _once_, it is run until the condition becomes false.\n",
    "\n",
    "Notice how in the for loop, the variable `i` changes automatically. However, below, we manually change the variable `x`, because if we didn't, the loop would run forever.\n",
    "\n",
    "Also notice how `(it is 1)` is never printed - this is because the condition is checked **before** each loop iteration, so:\n",
    "\n",
    "- `x` at `2` was decremented making it `1`\n",
    "- the condition became false as `x > 1` is not true when `x` is `1`\n",
    "- the loop ended"
   ]
  },
  {
   "cell_type": "code",
   "execution_count": null,
   "metadata": {},
   "outputs": [],
   "source": [
    "x = 10\n",
    "\n",
    "while x > 1:\n",
    "  print(\"x is still greater than 1 (it is \" + str(x) + \")\")\n",
    "  x -= 1"
   ]
  },
  {
   "cell_type": "markdown",
   "metadata": {},
   "source": [
    "## FAQ: Loops\n",
    "\n",
    "## What does `range(0, 10)` do?\n",
    "\n",
    "The Python [range()](https://www.w3schools.com/python/ref_func_range.asp1) function generates a range of numbers starting at the first number (inclusive) and ending at the second number (exclusive).\n",
    "\n",
    "You can, of course, also create variable-length ranges:\n",
    "\n",
    "```py\n",
    "my_ending_number = 64\n",
    "\n",
    "for i in range(0, my_ending_number):\n",
    "  print(i)\n",
    "```\n",
    "\n",
    "If the above code runs, numbers 0-63 will print out.\n",
    "\n",
    "It's also very common to use `range()` with [`len()`](https://www.w3schools.com/python/ref_func_len.asp), which finds the length of a variable (edit and run the code below!):"
   ]
  },
  {
   "cell_type": "code",
   "execution_count": null,
   "metadata": {},
   "outputs": [],
   "source": [
    "my_str = \"Hello, world!\"\n",
    "my_str_len = len(my_str) # 13\n",
    "\n",
    "# Of course, this line would work too:\n",
    "# for i in range(0, my_str_len):\n",
    "for i in range(0, len(my_str)):\n",
    "  print(my_str[i])"
   ]
  },
  {
   "cell_type": "markdown",
   "metadata": {},
   "source": [
    "## What does `[*range(0, 10)]` do?\n",
    "\n",
    "The asterisk `*` \"unpacks\" an \"iterator\" - this statement makes a list (array) of numbers 0 through 9.\n",
    "\n",
    "If you're really curious, come see me after and I'll explain this more. It's pretty advanced!\n",
    "\n",
    "## If the condition is False before a while loop starts, does it ever run?\n",
    "\n",
    "No! It's just like an if statement - if the condition is False, the code won't run.\n",
    "\n",
    "## What happens if a while loop's condition never becomes False?\n",
    "\n",
    "It will run forever. This is a common bug with while loops - if your program is running for a really long time and you're using a while loop, consider checking it out...!"
   ]
  }
 ],
 "metadata": {
  "kernelspec": {
   "display_name": "Python 3",
   "language": "python",
   "name": "python3"
  },
  "language_info": {
   "codemirror_mode": {
    "name": "ipython",
    "version": 3
   },
   "file_extension": ".py",
   "mimetype": "text/x-python",
   "name": "python",
   "nbconvert_exporter": "python",
   "pygments_lexer": "ipython3",
   "version": "3.12.1"
  }
 },
 "nbformat": 4,
 "nbformat_minor": 2
}
