{
 "cells": [
  {
   "cell_type": "markdown",
   "metadata": {},
   "source": [
    "# Setup\n",
    "\n",
    "This workbook will get everything working correctly. You do not need to change the code.\n",
    "\n",
    "1. Hover over the code below and click the play button that appears on the block's top left\n",
    "2. Click `Install/Enable suggested extensions`\n",
    "3. Click `Install` on both prompts (one to install 'Python' and one to install 'Jupyter')\n",
    "4. When asked to \"Select Another Kernel,\" pick `Python Environments...`, then `Python 3.12.1`\n",
    "\n",
    "If everything worked, you should see the number `100` print out BELOW the code block under this message."
   ]
  },
  {
   "cell_type": "code",
   "execution_count": null,
   "metadata": {},
   "outputs": [],
   "source": [
    "print(10 ** 2)"
   ]
  },
  {
   "cell_type": "markdown",
   "metadata": {},
   "source": [
    "# In other files...\n",
    "\n",
    "It may ask you to pick an environment: `Select kernel for 'notebooks/...ipynb`.\n",
    "\n",
    "**Always just press the return key.**"
   ]
  }
 ],
 "metadata": {
  "kernelspec": {
   "display_name": "Python 3",
   "language": "python",
   "name": "python3"
  },
  "language_info": {
   "codemirror_mode": {
    "name": "ipython",
    "version": 3
   },
   "file_extension": ".py",
   "mimetype": "text/x-python",
   "name": "python",
   "nbconvert_exporter": "python",
   "pygments_lexer": "ipython3",
   "version": "3.12.1"
  }
 },
 "nbformat": 4,
 "nbformat_minor": 2
}
