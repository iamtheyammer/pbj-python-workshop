{
 "cells": [
  {
   "cell_type": "markdown",
   "metadata": {},
   "source": [
    "# Variables\n",
    "\n",
    "Just like the [print() function](https://www.w3schools.com/python/ref_func_print.asp), [variables](https://www.w3schools.com/python/python_variables.asp) are also incredibly powerful and core to Python (and every other programming language ever created).\n",
    "\n",
    "Variables let you store information and manipulate that information later.\n",
    "\n",
    "They are declared by placing the name for your variable, then an equals sign (`=`), then the value you'd like for your variable.\n",
    "\n",
    "For example, this code assigns the value `42` to the variable named `meaning_of_life`:\n",
    "\n",
    "```py\n",
    "meaning_of_life = 42\n",
    "```\n",
    "\n",
    "## Rules for Variables\n",
    "\n",
    "- Variable names may not have spaces (generally, people use underscores `_` instead)\n",
    "- Variable names have numbers, but the number can't be the first character (`a1` is valid, but `1a` is not)\n",
    "- Variable names are case sensitive, meaning that `abc` and `abC` are different variables and are **not** interchangeable."
   ]
  },
  {
   "cell_type": "code",
   "execution_count": null,
   "metadata": {},
   "outputs": [],
   "source": [
    "var1 = 1\n",
    "var2 = \"hello\"\n",
    "var3 = 123.45\n",
    "\n",
    "print(var1 + var3)\n",
    "print(var2)\n",
    "\n",
    "var2 = \"goodbye\"\n",
    "\n",
    "print(var2)"
   ]
  },
  {
   "cell_type": "markdown",
   "metadata": {},
   "source": [
    "# FAQ: Variables\n",
    "\n",
    "## What happens if I use the same name twice?\n",
    "\n",
    "This is called \"re-declaration,\" and it is totally valid in Python:\n",
    "\n",
    "```py\n",
    "meaning_of_life = 42\n",
    "print(meaning_of_life) # 42\n",
    "\n",
    "meaning_of_life = -1\n",
    "print(meaning_of_life) # -1\n",
    "```\n",
    "\n",
    "But, remember that the re-declaration overwrites the original value, so make sure that's what you want to do!\n",
    "\n",
    "## Why do we use parenthesis for print() but not for variables?\n",
    "\n",
    "Great question! [print()](https://www.w3schools.com/python/ref_func_print.asp) is a _function_. We'll talk about functions later on.\n",
    "\n",
    "Using parenthesis after a variable is called \"calling\" it, and (most) variables cannot be \"called.\""
   ]
  }
 ],
 "metadata": {
  "language_info": {
   "name": "python"
  }
 },
 "nbformat": 4,
 "nbformat_minor": 2
}
