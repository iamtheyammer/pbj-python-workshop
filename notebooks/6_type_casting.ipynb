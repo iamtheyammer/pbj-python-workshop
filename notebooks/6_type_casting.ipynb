{
 "cells": [
  {
   "cell_type": "markdown",
   "metadata": {},
   "source": [
    "# Type Casting\n",
    "\n",
    "You saw the file name of the last one - it failed.\n",
    "\n",
    "This is because variables in Python have [_types_](https://www.w3schools.com/python/python_datatypes.asp).\n",
    "\n",
    "Some common types include:\n",
    "\n",
    "- Strings (text) `str`\n",
    "- Numbers `int`\n",
    "- Lists and sequences (arrays) `list`\n",
    "- Boolean variables (True and False) `bool`\n",
    "\n",
    "We can convert between types by calling the \"type casting function\" for the **destination type**: `int(\"1\")`, for example."
   ]
  },
  {
   "cell_type": "code",
   "execution_count": null,
   "metadata": {},
   "outputs": [],
   "source": [
    "age_str = input(\"How old are you?\")\n",
    "age = 0\n",
    "\n",
    "try:\n",
    "  age = int(age_str)\n",
    "except ValueError:\n",
    "  print(\"That age isn't a number!\")\n",
    "  exit(0)"
   ]
  }
 ],
 "metadata": {
  "language_info": {
   "name": "python"
  }
 },
 "nbformat": 4,
 "nbformat_minor": 2
}
