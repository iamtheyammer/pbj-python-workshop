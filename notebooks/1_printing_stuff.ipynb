{
 "cells": [
  {
   "cell_type": "markdown",
   "metadata": {},
   "source": [
    "# Printing Stuff\n",
    "\n",
    "The [print()](https://www.w3schools.com/python/ref_func_print.asp) function in Python is incredibly powerful, and can be used to output almost anything in Python to the console.\n",
    "\n",
    "The \"console\" is where you're running Python. Since you're running this code inside this page, it'll print out below each code block.\n",
    "\n",
    "If you were using the terminal (we'll cover this a little later), it'd print out there."
   ]
  },
  {
   "cell_type": "code",
   "execution_count": null,
   "metadata": {},
   "outputs": [],
   "source": [
    "first = input(\"What is your first name? \")\n",
    "last = input(\"What is your last name? \")\n",
    "\n",
    "print(\"Hello, \" + first + \" \" + last + \"!\")"
   ]
  },
  {
   "cell_type": "markdown",
   "metadata": {},
   "source": [
    "# FAQ: `print()`\n",
    "\n",
    "## Why is there a space at the end of the prompts?\n",
    "\n",
    "When running in this environment, they are not actually needed. However, if these ran on the console (we'll talk about the console later), Python would print out the prompt, then immediately ask for input:\n",
    "\n",
    "```\n",
    "What is your first name?Sponge\n",
    "```\n",
    "\n",
    "Adding the space makes it look better:\n",
    "\n",
    "```\n",
    "What is your first name? Sponge\n",
    "```\n",
    "\n",
    "## What are those plus `+` signs doing there?\n",
    "\n",
    "You can use plus signs `+` to \"append\" pieces of information together. However, they are literally appended:\n",
    "\n",
    "```py\n",
    "first = \"Sponge\"\n",
    "last = \"Bob\"\n",
    "full_name = first + last\n",
    "print(full_name) # SpongeBob\n",
    "```\n",
    "\n",
    "Meaning that there is no space added. You'd have to manually add the space, as in the example you ran above:\n",
    "\n",
    "```py\n",
    "full_name = first + \" \" + last\n",
    "print(full_name) # Sponge Bob\n",
    "```\n",
    "\n",
    "The plus operator in Python is quite versatile and can be used to append lots of things, including arrays. Of course, it can add numbers together, too."
   ]
  }
 ],
 "metadata": {
  "kernelspec": {
   "display_name": "Python 3",
   "language": "python",
   "name": "python3"
  },
  "language_info": {
   "codemirror_mode": {
    "name": "ipython",
    "version": 3
   },
   "file_extension": ".py",
   "mimetype": "text/x-python",
   "name": "python",
   "nbconvert_exporter": "python",
   "pygments_lexer": "ipython3",
   "version": "3.12.1"
  }
 },
 "nbformat": 4,
 "nbformat_minor": 2
}
