{
 "cells": [
  {
   "cell_type": "markdown",
   "metadata": {},
   "source": [
    "# Are you 21? (Working this time)\n",
    "\n",
    "Let's put all the concepts we learned together:\n",
    "\n",
    "- Functions (`input_number`, `print()`)\n",
    "- Type casting (`int(value)` inside `input_number`)\n",
    "- Variables (`value` inside `input_number`, `age`)\n",
    "- Conditionals (`if age is None:`)\n",
    "\n",
    "Give the code a try and feel free to modify it!"
   ]
  },
  {
   "cell_type": "code",
   "execution_count": null,
   "metadata": {},
   "outputs": [],
   "source": [
    "def input_number(prompt):\n",
    "  value = input(prompt)\n",
    "\n",
    "  try:\n",
    "    return int(value)\n",
    "  except ValueError:\n",
    "    return None\n",
    "  \n",
    "print(\"Let's see if you can legally drink...\")\n",
    "age = input_number(\"How old are you? \")\n",
    "\n",
    "if age is None:\n",
    "  print(\"You didn't enter a number!\")\n",
    "elif age < 21:\n",
    "  diff = 21 - age\n",
    "  print(\"Nope! You need to wait \" + str(diff) + \" more years.\")\n",
    "else:\n",
    "  print(\"Yep! Go out and have fun.\")"
   ]
  }
 ],
 "metadata": {
  "language_info": {
   "name": "python"
  }
 },
 "nbformat": 4,
 "nbformat_minor": 2
}
