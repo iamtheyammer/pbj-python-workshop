{
 "cells": [
  {
   "cell_type": "markdown",
   "metadata": {},
   "source": [
    "## Conditionals\n",
    "\n",
    "[Conditionals](https://www.w3schools.com/python/python_conditions.asp) in Python let you change code flow based on conditions you specify.\n",
    "\n",
    "Specify a conditional with `if`, then provide the condition. End with a colon `:`, then you'll notice that the editor intents your next line with two spaces. (See the FAQ below the code for why.)\n",
    "\n",
    "```py\n",
    "if True:\n",
    "  print(\"This will always print.\")\n",
    "```\n",
    "\n",
    "Compare variables and literals (see FAQ for definition) with these comparison operators:\n",
    "\n",
    "- Equals: `a == b`\n",
    "- Not Equals: `a != b`\n",
    "- Less than: `a < b`\n",
    "- Less than or equal to: `a <= b`\n",
    "- Greater than: `a > b`\n",
    "- Greater than or equal to: `a >= b`"
   ]
  },
  {
   "cell_type": "code",
   "execution_count": null,
   "metadata": {},
   "outputs": [],
   "source": [
    "am_tired = True\n",
    "homework_due = False\n",
    "\n",
    "if am_tired:\n",
    "  print(\"I am tired :(\")\n",
    "else:\n",
    "  print(\"I am nice and awake!\")\n",
    "\n",
    "if not homework_due:\n",
    "  print(\"I did all my homework!\")\n",
    "else:\n",
    "  print(\"Homework is still due :(\")\n",
    "\n",
    "if am_tired and homework_due:\n",
    "  print(\"I am tired and I have homework due\")\n",
    "\n",
    "if am_tired and not homework_due:\n",
    "  print(\"I can go to sleep!\")\n",
    "\n",
    "if not am_tired and homework_due:\n",
    "  print(\"Time to do some homework!\")"
   ]
  },
  {
   "cell_type": "markdown",
   "metadata": {},
   "source": [
    "# FAQ: Conditonals\n",
    "\n",
    "## \"Else if\" and the `elif` block\n",
    "\n",
    "\"Else if\" can be chained onto an `if` statement after the first `if`:\n",
    "(You can change and play around with the code block below!)"
   ]
  },
  {
   "cell_type": "code",
   "execution_count": null,
   "metadata": {},
   "outputs": [],
   "source": [
    "fruit = \"orange\"\n",
    "\n",
    "if fruit == \"orange\":\n",
    "  print(\"Orange you glad I didn't say banana?\")\n",
    "elif fruit == \"banana\":\n",
    "  print(\"Why did the banana go to the doctor? Because it wasn't peeling well!\")\n",
    "elif fruit == \"apple\":\n",
    "  print(\"An apple a day keeps the doctor away!\")\n",
    "else:\n",
    "  print(\"I don't know any jokes about that fruit :(\")"
   ]
  },
  {
   "cell_type": "markdown",
   "metadata": {},
   "source": [
    "Else if blocks are normally used when there are multiple values for a condition, and you want to check more than just one possibility.\n",
    "\n",
    "The code below is equivalent to the code above:\n",
    "\n",
    "```py\n",
    "fruit = \"orange\"\n",
    "\n",
    "if fruit == \"orange\":\n",
    "  print(\"Orange you glad I didn't say banana?\")\n",
    "if fruit == \"banana\":\n",
    "  print(\"Why did the banana go to the doctor? Because it wasn't peeling well!\")\n",
    "if fruit == \"apple\":\n",
    "  print(\"An apple a day keeps the doctor away!\")\n",
    "if fruit != \"orange\" and fruit != \"banana\" and fruit != \"apple\":\n",
    "  print(\"I don't know any jokes about that fruit :(\")\n",
    "```\n",
    "\n",
    "But look at how complicated the last if statement has to be to catch all the rest of the possibilies.\n",
    "\n",
    "Using the `elif` statements made it way simpler!"
   ]
  },
  {
   "cell_type": "markdown",
   "metadata": {},
   "source": [
    "## What are the indents for?\n",
    "\n",
    "You may have seen code that uses curly braces `{}` (often with indents) to separate code blocks.\n",
    "\n",
    "Python uses indents alone to figure out which code to run **only** when the condition is true. (This is also used in functions/loops/etc, so you'll see lots of indents.)\n",
    "\n",
    "A quick rule of thumb: **indents always follow colons**, and the indented code will run only if the line _ending with the colon_ is satisfied.\n",
    "\n",
    "### What happens if I just randomly indent a line of code?\n",
    "\n",
    "Believe it or not, Python will not allow the code to run and an error will be thrown! (See the red line below the code?)\n",
    "\n",
    "Try it below:"
   ]
  },
  {
   "cell_type": "code",
   "execution_count": null,
   "metadata": {},
   "outputs": [],
   "source": [
    "var1 = \"hello\"\n",
    "  var2 = \"world\"\n",
    "\n",
    "print(var1 + \" \" + var2)"
   ]
  },
  {
   "cell_type": "markdown",
   "metadata": {},
   "source": [
    "## What are _literals_?\n",
    "\n",
    "Literals are, simply, literal values. They are any number (say `25`), string (`\"abc\"`), boolean (`True`), etc declared directly in code. For example, in the code below, `var1` is a variable, and `15` is a literal:\n",
    "\n",
    "```py\n",
    "var1 = 10\n",
    "\n",
    "if var1 == 15:\n",
    "  print(\"This will not print because the condition is not true.\")\n",
    "else:\n",
    "  print(\"This will print.\")\n",
    "```\n",
    "\n",
    "Technically, the `10` in the first line is also a literal!"
   ]
  }
 ],
 "metadata": {
  "kernelspec": {
   "display_name": "Python 3",
   "language": "python",
   "name": "python3"
  },
  "language_info": {
   "codemirror_mode": {
    "name": "ipython",
    "version": 3
   },
   "file_extension": ".py",
   "mimetype": "text/x-python",
   "name": "python",
   "nbconvert_exporter": "python",
   "pygments_lexer": "ipython3",
   "version": "3.12.1"
  }
 },
 "nbformat": 4,
 "nbformat_minor": 2
}
