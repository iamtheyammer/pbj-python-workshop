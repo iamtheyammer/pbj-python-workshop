{
 "cells": [
  {
   "cell_type": "markdown",
   "metadata": {},
   "source": [
    "# Functions\n",
    "\n",
    "[Functions](https://www.w3schools.com/python/python_functions.asp) are blocks of code that run only when they are \"called\".\n",
    "\n",
    "We've been working with a number of functions so far:\n",
    "\n",
    "- `print()`\n",
    "- `range()`\n",
    "- `int()`\n",
    "- `exit()`\n",
    "\n",
    "Each of these are built-in (Python made them for us). But we can define our own functions!\n",
    "\n",
    "Function \"declarations\" start out with the `def` keyword (short for \"define\"), then the function's name.\n",
    "The \"parameters\" (data that goes into the function for it to do its job) are listed, comma-separated, inside the parenthesis.\n",
    "\n",
    "The function below, `add`, takes in two numbers `a` and `b` and \"returns\" their sum:"
   ]
  },
  {
   "cell_type": "code",
   "execution_count": 4,
   "metadata": {},
   "outputs": [],
   "source": [
    "def add(a, b):\n",
    "  sum = a + b\n",
    "  return sum"
   ]
  },
  {
   "cell_type": "markdown",
   "metadata": {},
   "source": [
    "The `return` keyword passes a value back to the \"caller\" (the code that called the function).\n",
    "\n",
    "This allows us to run, for example:"
   ]
  },
  {
   "cell_type": "code",
   "execution_count": null,
   "metadata": {},
   "outputs": [],
   "source": [
    "sum = add(5, 4)\n",
    "print(sum)"
   ]
  },
  {
   "cell_type": "markdown",
   "metadata": {},
   "source": [
    "And `9` prints out! (If it says \"add is not defined\", make sure to press the play button to the top left of the block with `def add...`)\n",
    "\n",
    "As you can see below, functions do not need to return anything, and can take in any number of parameters (remember: information passed **into** the function)."
   ]
  },
  {
   "cell_type": "code",
   "execution_count": null,
   "metadata": {},
   "outputs": [],
   "source": [
    "def say_hello(name):\n",
    "  print(\"Hello, \" + name + \"!\")\n",
    "\n",
    "say_hello(\"Sam\")\n",
    "say_hello(\"Annie\")"
   ]
  },
  {
   "cell_type": "markdown",
   "metadata": {},
   "source": [
    "This function, `input_number`, also uses a try/catch block, which:\n",
    "\n",
    "1. Runs the code under `try:`\n",
    "2. Sees if there is an error\n",
    "3. If there is **not** an error, it **skips** the code under `except:`\n",
    "4. If there **is** an error, it immediately runs the code under `except:`"
   ]
  },
  {
   "cell_type": "code",
   "execution_count": null,
   "metadata": {},
   "outputs": [],
   "source": [
    "def input_number(prompt):\n",
    "  value = input(prompt)\n",
    "\n",
    "  try:\n",
    "    return int(value)\n",
    "  except ValueError:\n",
    "    return None\n",
    "\n",
    "print(input_number(\"Enter a number: \"))\n",
    "print(type(input_number(\"Enter another number: \")))"
   ]
  },
  {
   "cell_type": "markdown",
   "metadata": {},
   "source": [
    "# Glossary/FAQ: Functions\n",
    "\n",
    "## Function\n",
    "\n",
    "Block of code that only runs when called. It does not run when it is defined.\n",
    "\n",
    "## Parameters\n",
    "\n",
    "Information passed into the function for it to do its job.\n",
    "\n",
    "Functions can take in any number of parameters, including zero parameters.\n",
    "\n",
    "### What happens if I pass in the wrong number of parameters?\n",
    "\n",
    "In Python, the function call will fail and an error will be thrown.\n",
    "\n",
    "## Return value\n",
    "\n",
    "Data that the function wants to pass back to the caller. This data is given back to the caller with the `return` keyword.\n",
    "\n",
    "Functions may return nothing.\n",
    "\n",
    "Once the `return` keyword is run inside a function, the function immediately stops executing and the next line of code from the caller will run.\n",
    "\n",
    "## Caller\n",
    "\n",
    "The code that is calling the function.\n",
    "\n",
    "## Function Call\n",
    "\n",
    "The action of \"calling\" (invoking/running) the function. \n",
    "\n",
    "## Function Definition\n",
    "\n",
    "The code that will run when the function is called. This code does **not** run when the function is defined, but will run every time is is called.\n",
    "\n",
    "## `None`\n",
    "\n",
    "`None` is a Python value that represents nothing. In some other langauges this is called `null` or `nil`."
   ]
  }
 ],
 "metadata": {
  "kernelspec": {
   "display_name": "Python 3",
   "language": "python",
   "name": "python3"
  },
  "language_info": {
   "codemirror_mode": {
    "name": "ipython",
    "version": 3
   },
   "file_extension": ".py",
   "mimetype": "text/x-python",
   "name": "python",
   "nbconvert_exporter": "python",
   "pygments_lexer": "ipython3",
   "version": "3.12.1"
  }
 },
 "nbformat": 4,
 "nbformat_minor": 2
}
